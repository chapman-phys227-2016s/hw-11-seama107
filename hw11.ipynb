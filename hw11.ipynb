{
 "cells": [
  {
   "cell_type": "markdown",
   "metadata": {
    "collapsed": false
   },
   "source": [
    "# Homework 11 (The Last one)\n",
    "\n",
    "## Michael Seaman\n",
    "\n",
    "### 5/19/16\n",
    "\n",
    "\n"
   ]
  },
  {
   "cell_type": "markdown",
   "metadata": {},
   "source": [
    "## Analyzing movement through a sombrero potential\n",
    "\n",
    "\n",
    "<img src= \"sombreroRainbow.gif\">\n",
    "\n",
    "Above is the represntation of a ball rolling in the hat of a sombrero with two divots while being shook. It's not a perfect representation, but think of it as \"After some period, we add another ball in the center and continue the process.\"\n",
    "\n",
    "Ok, so that's not actually what's going on. We have a set of differential equations modeling this motion:\n",
    "$$\\dot{x}(t) = y(t)$$\n",
    "$$m\\dot{y}(t) = -\\delta y(t) + x(t) - x^3(t) + F\\cos(\\omega t)$$\n",
    "\n",
    "And we are approximating it using an implementation of the Fourth-order Runge-Kutta approximation for 2 coupled differential equations.\n",
    "\n",
    "Because a poincare selection is used, we can see the evolution of the positions of the balls in phase time. Doing this kind of analysis shows the bizzare stretching and folding/taffy machine effect this system has been known to produce.\n",
    "\n",
    "In the above equations the $ F\\cos(\\omega t) $ adds in the force of the periodic shaking and the other terms provide for the forces delt from the potential well's shape.\n",
    "Natuarally, we can fine tune and adjust different parameters of the equation to get different results. The most interesting changes seem to come from adjusting F. While above we tried F = .4, let's see the effect of scaling that down to F = .1.\n",
    "\n",
    "<img src= \"smallForceSombrero.gif\">\n",
    "\n",
    "As we might have expected our \"balls\" end up getting stuck in a potential well and never escape. That's because our artificial \"shaking\" of the hat was causing them to stay in motion. So, then, what happens if we turn up the force all the way to .7?\n",
    "\n",
    "<img src= \"bigForceSombrero.gif\">\n",
    "\n",
    "Again, as we might have expected, the balls seem to just go crazy and escape the potential well; we've given them too much of a kick!\n"
   ]
  },
  {
   "cell_type": "markdown",
   "metadata": {},
   "source": [
    "## Usage\n",
    "\n",
    "Just for reference, in order to generate more sombrero gifs, just run sombrero_gif_maker.py and adjust varius values in the code to get different approximations."
   ]
  },
  {
   "cell_type": "code",
   "execution_count": null,
   "metadata": {
    "collapsed": true
   },
   "outputs": [],
   "source": []
  }
 ],
 "metadata": {
  "kernelspec": {
   "display_name": "Python 2 (SageMath)",
   "language": "python",
   "name": "python2"
  },
  "language_info": {
   "codemirror_mode": {
    "name": "ipython",
    "version": 2
   },
   "file_extension": ".py",
   "mimetype": "text/x-python",
   "name": "python",
   "nbconvert_exporter": "python",
   "pygments_lexer": "ipython2",
   "version": "2.7.10"
  }
 },
 "nbformat": 4,
 "nbformat_minor": 0
}
